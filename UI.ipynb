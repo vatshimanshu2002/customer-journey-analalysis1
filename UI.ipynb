{
 "cells": [
  {
   "cell_type": "code",
   "execution_count": 1,
   "id": "6734e788-ef48-4585-9b9d-3604729f5cc3",
   "metadata": {},
   "outputs": [
    {
     "name": "stdout",
     "output_type": "stream",
     "text": [
      "✅ CJA_main_ui.py created successfully!\n"
     ]
    }
   ],
   "source": [
    "# Recreate CJA_main_ui.py\n",
    "code = \"\"\"\n",
    "import streamlit as st\n",
    "import pandas as pd\n",
    "\n",
    "st.title(\"Customer Journey Analysis\")\n",
    "\n",
    "uploaded_file = st.file_uploader(\"Upload Customer Behavior CSV\", type=[\"csv\"])\n",
    "\n",
    "if uploaded_file is not None:\n",
    "    df = pd.read_csv(uploaded_file)\n",
    "    st.write(\"### Preview of Uploaded Dataset:\")\n",
    "    st.write(df.head())\n",
    "else:\n",
    "    st.write(\"Upload a CSV file to start the analysis.\")\n",
    "\"\"\"\n",
    "\n",
    "with open(\"/Users/adarsh/Documents/CJA_main/CJA_main_ui.py\", \"w\") as file:\n",
    "    file.write(code)\n",
    "\n",
    "print(\"✅ CJA_main_ui.py created successfully!\")"
   ]
  },
  {
   "cell_type": "code",
   "execution_count": 2,
   "id": "d9b97dc5-c826-46fa-97a3-e0e14f5c6f25",
   "metadata": {},
   "outputs": [
    {
     "name": "stdout",
     "output_type": "stream",
     "text": [
      "\u001b[0m\n",
      "\u001b[34m\u001b[1m  You can now view your Streamlit app in your browser.\u001b[0m\n",
      "\u001b[0m\n",
      "\u001b[34m  Local URL: \u001b[0m\u001b[1mhttp://localhost:8501\u001b[0m\n",
      "\u001b[34m  Network URL: \u001b[0m\u001b[1mhttp://192.168.1.6:8501\u001b[0m\n",
      "\u001b[0m\n",
      "^C\n",
      "\u001b[34m  Stopping...\u001b[0m\n"
     ]
    }
   ],
   "source": [
    "!streamlit run /Users/adarsh/Documents/CJA_main/CJA_main_ui.py"
   ]
  },
  {
   "cell_type": "code",
   "execution_count": null,
   "id": "a66610f6-8a28-48d7-b2ee-84658736d93d",
   "metadata": {},
   "outputs": [],
   "source": []
  }
 ],
 "metadata": {
  "kernelspec": {
   "display_name": "Python 3 (ipykernel)",
   "language": "python",
   "name": "python3"
  },
  "language_info": {
   "codemirror_mode": {
    "name": "ipython",
    "version": 3
   },
   "file_extension": ".py",
   "mimetype": "text/x-python",
   "name": "python",
   "nbconvert_exporter": "python",
   "pygments_lexer": "ipython3",
   "version": "3.11.8"
  }
 },
 "nbformat": 4,
 "nbformat_minor": 5
}
